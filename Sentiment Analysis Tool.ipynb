{
 "cells": [
  {
   "cell_type": "code",
   "execution_count": 16,
   "metadata": {},
   "outputs": [],
   "source": [
    "import pandas as pd\n",
    "import jieba\n",
    "import json\n",
    "import matplotlib.pyplot as plt\n",
    "import math\n",
    "import pymongo\n",
    "import time\n",
    "from datetime import datetime"
   ]
  },
  {
   "cell_type": "markdown",
   "metadata": {},
   "source": [
    "## Description\n",
    "\n",
    "The tool is the prototype of the Sentiment Analysis Tool (SAT) that requires many inputs and with a basic dataframe structure."
   ]
  },
  {
   "cell_type": "code",
   "execution_count": 2,
   "metadata": {},
   "outputs": [],
   "source": [
    "# 定义DataFrame\n",
    "\n",
    "columns = ['source', 'title', 'content', 'date', 'ifRelevant', 'currentScore']\n",
    "df = pd.DataFrame(columns = columns)"
   ]
  },
  {
   "cell_type": "code",
   "execution_count": 32,
   "metadata": {},
   "outputs": [],
   "source": [
    "# Parameter and Weight\n",
    "\n",
    "def initialization():\n",
    "    \n",
    "    # institution weight\n",
    "    institutionWeight = {}\n",
    "    institutionFile = open('institutionWeight.txt', 'r')\n",
    "    for line in institutionFile.readlines():\n",
    "        ins, weight = line.split(': ')\n",
    "        institutionWeight[str(ins.strip())] = float(weight.strip())\n",
    "    institutionFile.close()\n",
    "        \n",
    "    # source weight    \n",
    "    sourceWeight = {}\n",
    "    sourceFile = open('sourceWeight.txt', 'r')\n",
    "    for line in sourceFile.readlines():\n",
    "        source, weight = line.split(': ')\n",
    "        sourceWeight[str(source.strip())] = float(weight.strip())\n",
    "    sourceFile.close()\n",
    "    \n",
    "    # positive sentiment vocabs\n",
    "    positiveSentimentVocabs = {}\n",
    "    positiveSentimentVocabsFile = open('positiveSentimentVocabs.txt', 'r')\n",
    "    for line in positiveSentimentVocabsFile.readlines():\n",
    "        vocab, weight = line.split(': ')\n",
    "        positiveSentimentVocabs[str(vocab.strip())] = float(weight.strip())\n",
    "    positiveSentimentVocabsFile.close()\n",
    "    \n",
    "    # negative sentiment vocabs\n",
    "    negativeSentimentVocabs = {}\n",
    "    negativeSentimentVocabsFile = open('negativeSentimentVocabs.txt', 'r')\n",
    "    for line in negativeSentimentVocabsFile.readlines():\n",
    "        vocab, weight = line.split(': ')\n",
    "        negativeSentimentVocabs[str(vocab.strip())] = float(weight.strip())\n",
    "    negativeSentimentVocabsFile.close()\n",
    "        \n",
    "    return institutionWeight, sourceWeight, positiveSentimentVocabs, negativeSentimentVocabs"
   ]
  },
  {
   "cell_type": "code",
   "execution_count": null,
   "metadata": {},
   "outputs": [],
   "source": []
  },
  {
   "cell_type": "code",
   "execution_count": 72,
   "metadata": {},
   "outputs": [],
   "source": [
    "def plotScores(score, bytype):\n",
    "    plt.figure(figsize=(10,8))\n",
    "    plt.plot(score)\n",
    "    \n",
    "    plt.xlabel('Timeline')\n",
    "    plt.ylabel('Sentiment')\n",
    "    plt.title('Sentiment By ' + bytype)\n",
    "    \n",
    "    plt.show()"
   ]
  },
  {
   "cell_type": "code",
   "execution_count": 78,
   "metadata": {},
   "outputs": [],
   "source": [
    "# Main function\n",
    "\n",
    "def SAT(hotwords, filename):\n",
    "    columns = ['source', 'title', 'content', 'date', 'ifRelevant', 'currentScoreBySource', 'currentScoreByIns']\n",
    "    df = pd.DataFrame(columns = columns)\n",
    "    file = open(filename, 'r')\n",
    "    \n",
    "    institutionWeight, sourceWeight, positive_words, negative_words = initialization()\n",
    "    \n",
    "    for line in file.readlines():\n",
    "        year, month, day, time = json.loads(line[:-1])['dateAdded'].split('-')\n",
    "        source = json.loads(line[:-1])['source']\n",
    "        title = json.loads(line[:-1])['title']\n",
    "        content = json.loads(line[:-1])['content']\n",
    "        ifRelevant = 0\n",
    "        for words in hotwords:\n",
    "            if words in content:\n",
    "                ifRelevant = 1\n",
    "                break\n",
    "        row = {'source': source, 'title': title, 'content': content, 'date': str(year + '-' + month + '-' + day), 'ifRelevant': ifRelevant}\n",
    "        df = df.append(row, ignore_index = True)\n",
    "        \n",
    "    df['date'] = pd.to_datetime(df['date'])\n",
    "    \n",
    "    relevant_df = df[df['ifRelevant'] == 1]\n",
    "    \n",
    "    # analysis loop\n",
    "    initScoresBySource = [50]\n",
    "    dateTimeBySource = [0]\n",
    "    \n",
    "    # By Source\n",
    "    for i in range(len(relevant_df)):\n",
    "        currentScoreBySource = initScoresBySource[-1]\n",
    "        sentences = relevant_df.iloc[i, 2].replace('\\u3000', '').split('。')\n",
    "        for sentence in sentences:\n",
    "            for sourceKey in sourceWeight.keys():\n",
    "                if sourceKey in sentence:\n",
    "                    for word in hotWords:\n",
    "                        for sentiment in positive_words.keys():\n",
    "                            if sentiment in sentence:\n",
    "                                currentScoreBySource += (positive_words[sentiment] * sourceWeight[sourceKey])\n",
    "                        for sentiment in negative_words.keys():\n",
    "                            if sentiment in sentence:\n",
    "\n",
    "                                currentScoreBySource += (negative_words[sentiment] * sourceWeight[sourceKey])\n",
    "\n",
    "        initScoresBySource.append(currentScoreBySource)\n",
    "        dateTimeBySource.append(relevant_df.iloc[i]['date'])\n",
    "        \n",
    "#     result_df = pd.DataFrame(initScoresBySource, dateTimeBySource)\n",
    "        \n",
    "\n",
    "    plotScores(initScoresBySource, 'Source')\n",
    "    \n",
    "    initScoresByIns = [50]\n",
    "    dateTimeByIns = [0]\n",
    "    \n",
    "    # By Institution\n",
    "    for i in range(len(relevant_df)):\n",
    "        currentScoreByIns = initScoresByIns[-1]\n",
    "        sentences = relevant_df.iloc[i, 2].replace('\\u3000', '').split('。')\n",
    "        for sentence in sentences:\n",
    "            for insKey in institutionWeight.keys():\n",
    "                if insKey in sentence:\n",
    "                    for word in hotWords:\n",
    "                        for sentiment in positive_words.keys():\n",
    "                            if sentiment in sentence:\n",
    "                                currentScoreByIns += (positive_words[sentiment] * institutionWeight[insKey])\n",
    "                        for sentiment in negative_words.keys():\n",
    "                            if sentiment in sentence:\n",
    "\n",
    "                                currentScoreByIns += (negative_words[sentiment] * institutionWeight[insKey])\n",
    "\n",
    "        initScoresByIns.append(currentScoreByIns)\n",
    "        dateTimeByIns.append(relevant_df.iloc[i]['date'])\n",
    "        \n",
    "    plotScores(initScoresByIns, 'Institution')\n",
    "    "
   ]
  },
  {
   "cell_type": "code",
   "execution_count": 83,
   "metadata": {},
   "outputs": [],
   "source": [
    "# Please define your hot-words here\n",
    "\n",
    "hotWords = ['网络直播'] # Enter here\n",
    "\n",
    "\n",
    "# Run result\n",
    "SAT(hotwords=hotWords, filename='news')"
   ]
  },
  {
   "cell_type": "code",
   "execution_count": 84,
   "metadata": {},
   "outputs": [
    {
     "data": {
      "image/png": "[encoded data removed]",
      "text/plain": [
       "<Figure size 720x576 with 1 Axes>"
      ]
     },
     "metadata": {
      "needs_background": "light"
     },
     "output_type": "display_data"
    },
    {
     "data": {
      "image/png": "[encoded data removed]",
      "text/plain": [
       "<Figure size 720x576 with 1 Axes>"
      ]
     },
     "metadata": {
      "needs_background": "light"
     },
     "output_type": "display_data"
    }
   ],
   "source": []
  },
  {
   "cell_type": "markdown",
   "metadata": {},
   "source": [
    "# 直连MongoDB版本"
   ]
  },
  {
   "cell_type": "code",
   "execution_count": 14,
   "metadata": {},
   "outputs": [
    {
     "name": "stdout",
     "output_type": "stream",
     "text": [
      "DB existed\n",
      "Collection existed\n",
      "Create collection\n"
     ]
    }
   ],
   "source": [
    "myClient = pymongo.MongoClient('mongodb://localhost:27017/')\n",
    "dblist = myClient.list_database_names()\n",
    "# Test if db existed\n",
    "if 'ttd' in dblist:\n",
    "    print('DB existed')\n",
    "mydb = myClient['ttd']\n",
    "cList = mydb.list_collection_names()\n",
    "import pymongo\n",
    "from datetime import datetime\n",
    "import time\n",
    "# 标记过的新闻库\n",
    "if 'taggedNews' in cList:\n",
    "    print('Collection existed')\n",
    "else:\n",
    "    print('Create collection')\n",
    "    \n",
    "taggedNews = mydb['taggedNews']\n",
    "\n",
    "# 得分库\n",
    "\n",
    "if 'scoreBase' in cList:\n",
    "    print('Collection existed')\n",
    "else:\n",
    "    print('Create collection')\n",
    "\n",
    "scoreBase = mydb['scoreBase']"
   ]
  },
  {
   "cell_type": "markdown",
   "metadata": {},
   "source": [
    "## 预设Method"
   ]
  },
  {
   "cell_type": "code",
   "execution_count": 7,
   "metadata": {},
   "outputs": [],
   "source": [
    "def initialization():\n",
    "    \n",
    "    # institution weight\n",
    "    institutionWeight = {}\n",
    "    institutionFile = open('referenceList/institutionWeight.txt', 'r')\n",
    "    for line in institutionFile.readlines():\n",
    "        ins, weight = line.split(': ')\n",
    "        institutionWeight[str(ins.strip())] = float(weight.strip())\n",
    "    institutionFile.close()\n",
    "        \n",
    "    # source weight    \n",
    "    sourceWeight = {}\n",
    "    sourceFile = open('referenceList/sourceWeight.txt', 'r')\n",
    "    for line in sourceFile.readlines():\n",
    "        source, weight = line.split(': ')\n",
    "        sourceWeight[str(source.strip())] = float(weight.strip())\n",
    "    sourceFile.close()\n",
    "    \n",
    "    # positive sentiment vocabs\n",
    "    positiveSentimentVocabs = {}\n",
    "    positiveSentimentVocabsFile = open('referenceList/positiveSentimentVocabs.txt', 'r')\n",
    "    for line in positiveSentimentVocabsFile.readlines():\n",
    "        vocab, weight = line.split(': ')\n",
    "        positiveSentimentVocabs[str(vocab.strip())] = float(weight.strip())\n",
    "    positiveSentimentVocabsFile.close()\n",
    "    \n",
    "    # negative sentiment vocabs\n",
    "    negativeSentimentVocabs = {}\n",
    "    negativeSentimentVocabsFile = open('referenceList/negativeSentimentVocabs.txt', 'r')\n",
    "    for line in negativeSentimentVocabsFile.readlines():\n",
    "        vocab, weight = line.split(': ')\n",
    "        negativeSentimentVocabs[str(vocab.strip())] = float(weight.strip())\n",
    "    negativeSentimentVocabsFile.close()\n",
    "        \n",
    "    return institutionWeight, sourceWeight, positiveSentimentVocabs, negativeSentimentVocabs"
   ]
  },
  {
   "cell_type": "code",
   "execution_count": 11,
   "metadata": {},
   "outputs": [
    {
     "name": "stdout",
     "output_type": "stream",
     "text": [
      "今天是 2020 年 9 月 26 日，即将计算当日分数......\n"
     ]
    }
   ],
   "source": [
    "print('今天是', time.localtime().tm_year, '年', time.localtime().tm_mon, '月', time.localtime().tm_mday, '日，即将计算当日分数......')"
   ]
  },
  {
   "cell_type": "code",
   "execution_count": 19,
   "metadata": {},
   "outputs": [
    {
     "data": {
      "text/plain": [
       "int"
      ]
     },
     "execution_count": 19,
     "metadata": {},
     "output_type": "execute_result"
    }
   ],
   "source": [
    "type(time.localtime().tm_year)"
   ]
  },
  {
   "cell_type": "code",
   "execution_count": 120,
   "metadata": {},
   "outputs": [],
   "source": [
    "firms = []\n",
    "file = open('referenceList/firmList.txt', 'r')\n",
    "for line in file.readlines():\n",
    "    firms.append(line.strip())\n",
    "file.close()\n",
    "\n",
    "\n",
    "\n",
    "\n",
    "def analysis(target, content):\n",
    "    institutionWeight, sourceWeight, positive_words, negative_words = initialization()\n",
    "    currentScore = [0]\n",
    "    \n",
    "    for sentence in content.split('。'):\n",
    "        for word in positive_words:\n",
    "            for institution in institutionWeight:\n",
    "                if word in sentence and institution in sentence:\n",
    "                    currentScore.append(currentScore[-1] + institutionWeight[institution] * positive_words[word])\n",
    "        \n",
    "        for word in negative_words:\n",
    "            for institution in institutionWeight:\n",
    "                if word in sentence and institution in sentence:\n",
    "                    currentScore.append(currentScore[-1] + institutionWeight[institution] * negative_words[word])\n",
    "                    \n",
    "    return currentScore\n",
    "\n",
    "def SAT(firms, givenDate):\n",
    "\n",
    "    data = taggedNews.find({'dateAdded': givenDate})\n",
    "    \n",
    "    firmScore = pd.DataFrame(columns = ['firmName', 'firmScore', 'scoreDate'])\n",
    "    \n",
    "    for line in data:\n",
    "        for firm in firms:\n",
    "            if firm in line['firmsTag']:\n",
    "                # 触发分析\n",
    "               \n",
    "                score = analysis(firm, line['content'])\n",
    "                firmScore = firmScore.append({'firmName': firm, 'firmScore': round(float(score[-1]),2), 'scoreDate': givenDate}, ignore_index = True)\n",
    "                \n",
    "    result = firmScore.groupby('firmName').sum()\n",
    "    \n",
    "    result = result.reset_index()\n",
    "    result['firmScore'] = round(result['firmScore'], 2)\n",
    "    for firm in firms:\n",
    "        if firm not in list(result['firmName']):\n",
    "            \n",
    "            result = result.append({'firmName': firm,'firmScore': round(float(0), 2)}, ignore_index = True)\n",
    "    return result"
   ]
  },
  {
   "cell_type": "code",
   "execution_count": 107,
   "metadata": {},
   "outputs": [
    {
     "data": {
      "text/html": [
       "<div>\n",
       "<style scoped>\n",
       "    .dataframe tbody tr th:only-of-type {\n",
       "        vertical-align: middle;\n",
       "    }\n",
       "\n",
       "    .dataframe tbody tr th {\n",
       "        vertical-align: top;\n",
       "    }\n",
       "\n",
       "    .dataframe thead th {\n",
       "        text-align: right;\n",
       "    }\n",
       "</style>\n",
       "<table border=\"1\" class=\"dataframe\">\n",
       "  <thead>\n",
       "    <tr style=\"text-align: right;\">\n",
       "      <th></th>\n",
       "      <th>firmName</th>\n",
       "      <th>firmScore</th>\n",
       "    </tr>\n",
       "  </thead>\n",
       "  <tbody>\n",
       "    <tr>\n",
       "      <th>0</th>\n",
       "      <td>亚马逊</td>\n",
       "      <td>0.00</td>\n",
       "    </tr>\n",
       "    <tr>\n",
       "      <th>1</th>\n",
       "      <td>京东</td>\n",
       "      <td>0.10</td>\n",
       "    </tr>\n",
       "    <tr>\n",
       "      <th>2</th>\n",
       "      <td>字节跳动</td>\n",
       "      <td>0.00</td>\n",
       "    </tr>\n",
       "    <tr>\n",
       "      <th>3</th>\n",
       "      <td>微软</td>\n",
       "      <td>0.00</td>\n",
       "    </tr>\n",
       "    <tr>\n",
       "      <th>4</th>\n",
       "      <td>腾讯</td>\n",
       "      <td>0.00</td>\n",
       "    </tr>\n",
       "    <tr>\n",
       "      <th>5</th>\n",
       "      <td>谷歌</td>\n",
       "      <td>0.00</td>\n",
       "    </tr>\n",
       "    <tr>\n",
       "      <th>6</th>\n",
       "      <td>阿里巴巴</td>\n",
       "      <td>3.84</td>\n",
       "    </tr>\n",
       "    <tr>\n",
       "      <th>7</th>\n",
       "      <td>百度</td>\n",
       "      <td>0.00</td>\n",
       "    </tr>\n",
       "    <tr>\n",
       "      <th>8</th>\n",
       "      <td>滴滴</td>\n",
       "      <td>0.00</td>\n",
       "    </tr>\n",
       "    <tr>\n",
       "      <th>9</th>\n",
       "      <td>甲骨文</td>\n",
       "      <td>0.00</td>\n",
       "    </tr>\n",
       "  </tbody>\n",
       "</table>\n",
       "</div>"
      ],
      "text/plain": [
       "  firmName  firmScore\n",
       "0      亚马逊       0.00\n",
       "1       京东       0.10\n",
       "2     字节跳动       0.00\n",
       "3       微软       0.00\n",
       "4       腾讯       0.00\n",
       "5       谷歌       0.00\n",
       "6     阿里巴巴       3.84\n",
       "7       百度       0.00\n",
       "8       滴滴       0.00\n",
       "9      甲骨文       0.00"
      ]
     },
     "execution_count": 107,
     "metadata": {},
     "output_type": "execute_result"
    }
   ],
   "source": [
    "# year = time.localtime().tm_year\n",
    "# month = time.localtime().tm_mon\n",
    "# day = time.localtime().tm_mday\n",
    "#     givenDate = datetime(year, month, day, 0, 0)\n",
    "givenDate = datetime(2020, 9, 9, 0, 0)\n",
    "\n",
    "SAT(firms, givenDate)"
   ]
  },
  {
   "cell_type": "code",
   "execution_count": 112,
   "metadata": {},
   "outputs": [],
   "source": [
    "date = set()\n",
    "for line in taggedNews.find():\n",
    "    if '字节跳动' in line['firmsTag']:\n",
    "        date.add(line['dateAdded'])\n",
    "    "
   ]
  },
  {
   "cell_type": "code",
   "execution_count": 121,
   "metadata": {
    "scrolled": true
   },
   "outputs": [],
   "source": [
    "for time in date:\n",
    "    current = SAT(firms, time)\n",
    "    for i in range(len(current)):\n",
    "        scoreBase.insert_one({'firmName': current.iloc[i]['firmName'],\n",
    "                              'firmScore': current.iloc[i]['firmScore'],\n",
    "                              'scoreDate': time})\n",
    "        "
   ]
  },
  {
   "cell_type": "code",
   "execution_count": 117,
   "metadata": {},
   "outputs": [
    {
     "data": {
      "text/html": [
       "<div>\n",
       "<style scoped>\n",
       "    .dataframe tbody tr th:only-of-type {\n",
       "        vertical-align: middle;\n",
       "    }\n",
       "\n",
       "    .dataframe tbody tr th {\n",
       "        vertical-align: top;\n",
       "    }\n",
       "\n",
       "    .dataframe thead th {\n",
       "        text-align: right;\n",
       "    }\n",
       "</style>\n",
       "<table border=\"1\" class=\"dataframe\">\n",
       "  <thead>\n",
       "    <tr style=\"text-align: right;\">\n",
       "      <th></th>\n",
       "      <th>firmName</th>\n",
       "      <th>firmScore</th>\n",
       "    </tr>\n",
       "  </thead>\n",
       "  <tbody>\n",
       "    <tr>\n",
       "      <th>0</th>\n",
       "      <td>亚马逊</td>\n",
       "      <td>0.00</td>\n",
       "    </tr>\n",
       "    <tr>\n",
       "      <th>1</th>\n",
       "      <td>京东</td>\n",
       "      <td>0.10</td>\n",
       "    </tr>\n",
       "    <tr>\n",
       "      <th>2</th>\n",
       "      <td>字节跳动</td>\n",
       "      <td>0.00</td>\n",
       "    </tr>\n",
       "    <tr>\n",
       "      <th>3</th>\n",
       "      <td>微软</td>\n",
       "      <td>0.00</td>\n",
       "    </tr>\n",
       "    <tr>\n",
       "      <th>4</th>\n",
       "      <td>腾讯</td>\n",
       "      <td>0.00</td>\n",
       "    </tr>\n",
       "    <tr>\n",
       "      <th>5</th>\n",
       "      <td>谷歌</td>\n",
       "      <td>0.00</td>\n",
       "    </tr>\n",
       "    <tr>\n",
       "      <th>6</th>\n",
       "      <td>阿里巴巴</td>\n",
       "      <td>3.84</td>\n",
       "    </tr>\n",
       "    <tr>\n",
       "      <th>7</th>\n",
       "      <td>百度</td>\n",
       "      <td>0.00</td>\n",
       "    </tr>\n",
       "    <tr>\n",
       "      <th>8</th>\n",
       "      <td>滴滴</td>\n",
       "      <td>0.00</td>\n",
       "    </tr>\n",
       "    <tr>\n",
       "      <th>9</th>\n",
       "      <td>甲骨文</td>\n",
       "      <td>0.00</td>\n",
       "    </tr>\n",
       "  </tbody>\n",
       "</table>\n",
       "</div>"
      ],
      "text/plain": [
       "  firmName  firmScore\n",
       "0      亚马逊       0.00\n",
       "1       京东       0.10\n",
       "2     字节跳动       0.00\n",
       "3       微软       0.00\n",
       "4       腾讯       0.00\n",
       "5       谷歌       0.00\n",
       "6     阿里巴巴       3.84\n",
       "7       百度       0.00\n",
       "8       滴滴       0.00\n",
       "9      甲骨文       0.00"
      ]
     },
     "execution_count": 117,
     "metadata": {},
     "output_type": "execute_result"
    }
   ],
   "source": [
    "givenDate = datetime(2020, 9, 9, 0, 0)\n",
    "\n",
    "temp = SAT(firms, givenDate)\n",
    "temp"
   ]
  },
  {
   "cell_type": "code",
   "execution_count": 118,
   "metadata": {},
   "outputs": [],
   "source": [
    "temp['firmScore'] = round(temp['firmScore'], 1)"
   ]
  },
  {
   "cell_type": "code",
   "execution_count": 119,
   "metadata": {},
   "outputs": [
    {
     "data": {
      "text/html": [
       "<div>\n",
       "<style scoped>\n",
       "    .dataframe tbody tr th:only-of-type {\n",
       "        vertical-align: middle;\n",
       "    }\n",
       "\n",
       "    .dataframe tbody tr th {\n",
       "        vertical-align: top;\n",
       "    }\n",
       "\n",
       "    .dataframe thead th {\n",
       "        text-align: right;\n",
       "    }\n",
       "</style>\n",
       "<table border=\"1\" class=\"dataframe\">\n",
       "  <thead>\n",
       "    <tr style=\"text-align: right;\">\n",
       "      <th></th>\n",
       "      <th>firmName</th>\n",
       "      <th>firmScore</th>\n",
       "    </tr>\n",
       "  </thead>\n",
       "  <tbody>\n",
       "    <tr>\n",
       "      <th>0</th>\n",
       "      <td>亚马逊</td>\n",
       "      <td>0.0</td>\n",
       "    </tr>\n",
       "    <tr>\n",
       "      <th>1</th>\n",
       "      <td>京东</td>\n",
       "      <td>0.1</td>\n",
       "    </tr>\n",
       "    <tr>\n",
       "      <th>2</th>\n",
       "      <td>字节跳动</td>\n",
       "      <td>0.0</td>\n",
       "    </tr>\n",
       "    <tr>\n",
       "      <th>3</th>\n",
       "      <td>微软</td>\n",
       "      <td>0.0</td>\n",
       "    </tr>\n",
       "    <tr>\n",
       "      <th>4</th>\n",
       "      <td>腾讯</td>\n",
       "      <td>0.0</td>\n",
       "    </tr>\n",
       "    <tr>\n",
       "      <th>5</th>\n",
       "      <td>谷歌</td>\n",
       "      <td>0.0</td>\n",
       "    </tr>\n",
       "    <tr>\n",
       "      <th>6</th>\n",
       "      <td>阿里巴巴</td>\n",
       "      <td>3.8</td>\n",
       "    </tr>\n",
       "    <tr>\n",
       "      <th>7</th>\n",
       "      <td>百度</td>\n",
       "      <td>0.0</td>\n",
       "    </tr>\n",
       "    <tr>\n",
       "      <th>8</th>\n",
       "      <td>滴滴</td>\n",
       "      <td>0.0</td>\n",
       "    </tr>\n",
       "    <tr>\n",
       "      <th>9</th>\n",
       "      <td>甲骨文</td>\n",
       "      <td>0.0</td>\n",
       "    </tr>\n",
       "  </tbody>\n",
       "</table>\n",
       "</div>"
      ],
      "text/plain": [
       "  firmName  firmScore\n",
       "0      亚马逊        0.0\n",
       "1       京东        0.1\n",
       "2     字节跳动        0.0\n",
       "3       微软        0.0\n",
       "4       腾讯        0.0\n",
       "5       谷歌        0.0\n",
       "6     阿里巴巴        3.8\n",
       "7       百度        0.0\n",
       "8       滴滴        0.0\n",
       "9      甲骨文        0.0"
      ]
     },
     "execution_count": 119,
     "metadata": {},
     "output_type": "execute_result"
    }
   ],
   "source": [
    "temp"
   ]
  },
  {
   "cell_type": "code",
   "execution_count": null,
   "metadata": {},
   "outputs": [],
   "source": []
  }
 ],
 "metadata": {
  "kernelspec": {
   "display_name": "Python 3",
   "language": "python",
   "name": "python3"
  },
  "language_info": {
   "codemirror_mode": {
    "name": "ipython",
    "version": 3
   },
   "file_extension": ".py",
   "mimetype": "text/x-python",
   "name": "python",
   "nbconvert_exporter": "python",
   "pygments_lexer": "ipython3",
   "version": "3.8.3"
  }
 },
 "nbformat": 4,
 "nbformat_minor": 4
}
